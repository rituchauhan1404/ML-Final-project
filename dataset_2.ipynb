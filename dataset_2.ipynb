{
 "cells": [
  {
   "cell_type": "code",
   "execution_count": 1,
   "metadata": {},
   "outputs": [],
   "source": [
    "import pandas as pd\n",
    "import sqlite3\n",
    "import pickle\n",
    "import category_encoders as ce\n",
    "from sklearn.metrics import f1_score\n",
    "\n",
    "from sklearn.model_selection import train_test_split\n",
    "from sklearn.tree import DecisionTreeClassifier\n",
    "from sklearn.ensemble import RandomForestClassifier\n",
    "from sklearn.linear_model import LogisticRegression\n"
   ]
  },
  {
   "cell_type": "code",
   "execution_count": 2,
   "metadata": {},
   "outputs": [
    {
     "data": {
      "text/html": [
       "<div>\n",
       "<style scoped>\n",
       "    .dataframe tbody tr th:only-of-type {\n",
       "        vertical-align: middle;\n",
       "    }\n",
       "\n",
       "    .dataframe tbody tr th {\n",
       "        vertical-align: top;\n",
       "    }\n",
       "\n",
       "    .dataframe thead th {\n",
       "        text-align: right;\n",
       "    }\n",
       "</style>\n",
       "<table border=\"1\" class=\"dataframe\">\n",
       "  <thead>\n",
       "    <tr style=\"text-align: right;\">\n",
       "      <th></th>\n",
       "      <th>s_no</th>\n",
       "      <th>sat_Name</th>\n",
       "      <th>Discipline</th>\n",
       "      <th>Launch_mass</th>\n",
       "      <th>Launch_date</th>\n",
       "      <th>Launch_vehicle</th>\n",
       "      <th>Launch_site</th>\n",
       "      <th>Periapsis_km</th>\n",
       "      <th>Apoapsis_km</th>\n",
       "      <th>Period_in_minutes</th>\n",
       "      <th>Success</th>\n",
       "    </tr>\n",
       "  </thead>\n",
       "  <tbody>\n",
       "    <tr>\n",
       "      <th>0</th>\n",
       "      <td>1</td>\n",
       "      <td>Aryabhatta</td>\n",
       "      <td>Earth Science Space Science</td>\n",
       "      <td>360.0</td>\n",
       "      <td>1975-04-19</td>\n",
       "      <td>Interkosmos-2</td>\n",
       "      <td>Kapustin Yar</td>\n",
       "      <td>568.0</td>\n",
       "      <td>611.0</td>\n",
       "      <td>96.5</td>\n",
       "      <td>Pass</td>\n",
       "    </tr>\n",
       "    <tr>\n",
       "      <th>1</th>\n",
       "      <td>2</td>\n",
       "      <td>Bhaskara Sega-I</td>\n",
       "      <td>Astronomy Communications Engineering Earth Sci...</td>\n",
       "      <td>444.0</td>\n",
       "      <td>1979-06-07</td>\n",
       "      <td>Modified SS-5</td>\n",
       "      <td>Kapustin Yar</td>\n",
       "      <td>512.0</td>\n",
       "      <td>557.0</td>\n",
       "      <td>95.2</td>\n",
       "      <td>Pass</td>\n",
       "    </tr>\n",
       "  </tbody>\n",
       "</table>\n",
       "</div>"
      ],
      "text/plain": [
       "   s_no         sat_Name                                         Discipline  \\\n",
       "0     1       Aryabhatta                        Earth Science Space Science   \n",
       "1     2  Bhaskara Sega-I  Astronomy Communications Engineering Earth Sci...   \n",
       "\n",
       "   Launch_mass Launch_date  Launch_vehicle   Launch_site  Periapsis_km  \\\n",
       "0        360.0  1975-04-19   Interkosmos-2  Kapustin Yar         568.0   \n",
       "1        444.0  1979-06-07   Modified SS-5  Kapustin Yar         512.0   \n",
       "\n",
       "   Apoapsis_km  Period_in_minutes Success  \n",
       "0        611.0               96.5    Pass  \n",
       "1        557.0               95.2    Pass  "
      ]
     },
     "execution_count": 2,
     "metadata": {},
     "output_type": "execute_result"
    }
   ],
   "source": [
    "df = pd.read_csv(\"satellite_info.csv\")\n",
    "df.head(2)"
   ]
  },
  {
   "cell_type": "code",
   "execution_count": 3,
   "metadata": {},
   "outputs": [
    {
     "data": {
      "text/plain": [
       "s_no                   int64\n",
       "sat_Name              object\n",
       "Discipline            object\n",
       "Launch_mass          float64\n",
       "Launch_date           object\n",
       "Launch_vehicle        object\n",
       "Launch_site           object\n",
       "Periapsis_km         float64\n",
       "Apoapsis_km          float64\n",
       "Period_in_minutes    float64\n",
       "Success               object\n",
       "dtype: object"
      ]
     },
     "execution_count": 3,
     "metadata": {},
     "output_type": "execute_result"
    }
   ],
   "source": [
    "df.dtypes"
   ]
  },
  {
   "cell_type": "code",
   "execution_count": 4,
   "metadata": {},
   "outputs": [
    {
     "name": "stdout",
     "output_type": "stream",
     "text": [
      "s_no                 0\n",
      "sat_Name             0\n",
      "Discipline           0\n",
      "Launch_mass          0\n",
      "Launch_date          0\n",
      "Launch_vehicle       0\n",
      "Launch_site          0\n",
      "Periapsis_km         0\n",
      "Apoapsis_km          0\n",
      "Period_in_minutes    0\n",
      "Success              0\n",
      "dtype: int64\n"
     ]
    }
   ],
   "source": [
    "print(df.isnull().sum())"
   ]
  },
  {
   "cell_type": "code",
   "execution_count": 5,
   "metadata": {},
   "outputs": [
    {
     "data": {
      "text/plain": [
       "(139, 11)"
      ]
     },
     "execution_count": 5,
     "metadata": {},
     "output_type": "execute_result"
    }
   ],
   "source": [
    "df.shape"
   ]
  },
  {
   "cell_type": "code",
   "execution_count": 6,
   "metadata": {},
   "outputs": [
    {
     "name": "stdout",
     "output_type": "stream",
     "text": [
      "s_no\n",
      "[  1   2   3   4   5   6   7   8   9  10  11  12  13  14  15  16  17  18\n",
      "  19  20  21  22  23  24  25  26  27  28  29  30  31  32  33  34  35  36\n",
      "  37  38  39  40  41  42  43  44  45  46  47  48  49  50  51  52  53  54\n",
      "  55  56  57  58  59  60  61  62  63  64  65  66  67  68  69  70  71  72\n",
      "  73  74  75  76  77  78  79  80  81  82  83  84  85  86  87  88  89  90\n",
      "  91  92  93  94  95  96  97  98  99 100 101 102 103 104 105 106 107 108\n",
      " 109 110 111 112 113 114 115 116 117 118 119 120 121 122 123 124 125 126\n",
      " 127 128 129 130 131 132 133 134 135 136 137 138 139]\n",
      "sat_Name\n",
      "['Aryabhatta' 'Bhaskara Sega-I' 'Rohini' 'Rohini RS-1' 'Rohini RS-D1'\n",
      " 'APPLE' 'Bhaskara -II' 'INSAT-1A' 'Rohini RS-D2' 'INSAT-1B' 'SROSS-1'\n",
      " 'IRS-1A' 'SROSS-2' 'INSAT-1C' 'INSAT-1D' 'IRS-1B' 'INSAT-2DT' 'SROSS-C'\n",
      " 'INSAT-2A' 'INSAT-2B' 'RS-1E' 'SROSS-C2' 'IRS-P2' 'INSAT-2C' 'IRS-1C'\n",
      " 'IRS-P3' 'INSAT-2D' 'IRS-1D' 'INSAT-2E' 'OceanSat-1' 'INSAT-3B' 'GSAT-1'\n",
      " 'TES' 'INSAT-3C' 'Kalpana-1' 'INSAT-3A' 'GSAT-2' 'INSAT-3E'\n",
      " 'ResourceSat-1' 'GSAT-3' 'CartoSat-1' 'HamSat' 'INSAT-4A' 'INSAT-4C'\n",
      " 'CartoSat-2' 'SRE-1' 'INSAT-4B' 'PS4-AAM' 'INSAT-4CR' 'CartoSat-2A'\n",
      " 'IMS-1' 'Chandrayaan-1' 'RISAT-2' 'AnuSat-1' 'OceanSat-2' 'GSAT-4'\n",
      " 'CartoSat-2B' 'StudSat' 'GSAT-5P' 'ResourceSat-2' 'YouthSat' 'GSAT-8'\n",
      " 'GSAT-12' 'Megha-Tropiques' 'Jugnu' 'SRMSat' 'RISAT-1' 'PS4' 'GSAT-10'\n",
      " 'SARAL' 'IRNSS-1A' 'INSAT-3D' 'GSAT-7' 'Mangalyaan-1' 'GSAT-14'\n",
      " 'IRNSS-1B' 'IRNSS-1C' 'GSAT-16'\n",
      " 'Crew Module Atmospheric Re-entry Experiment' 'IRNSS-1D' 'GSAT-6'\n",
      " 'Astrosat' 'GSAT-15' 'IRNSS-1E' 'IRNSS-1F' 'IRNSS-1G' 'Cartosat-2C'\n",
      " 'SathyabamaSat' 'Swayam-1' 'INSAT-3DR' 'Pratham' 'PISat' 'ScatSat-1'\n",
      " 'GSAT-18' 'ResourceSat-2A' 'CartoSat-2D' 'INS-1A' 'INS-1B' 'GSAT-9'\n",
      " 'GSAT-19E' 'NIUSat' 'CartoSat-2E' 'GSAT-17' 'IRNSS-1H' 'CartoSat-2F'\n",
      " 'MicroSat-TD' 'INS-1C' 'GSAT-6A' 'IRNSS-1I' 'GSAT-29' 'HySIS'\n",
      " 'ExseedSat-1' 'GSAT-11' 'GSAT-7A' 'Microsat-R' 'PS4-KalamSAT-V2'\n",
      " 'GSAT-31' 'EMISAT' 'PS4-Advanced' 'RISAT-2B' 'Chandrayaan-2' 'Cartosat-3'\n",
      " 'RISAT-2BR1' 'GSAT-30' 'EOS-01' 'CMS-01' 'Sindhu Netra' 'SDSat' 'JITSat'\n",
      " 'GHRCESat' 'Sri Shakthi Sat' 'EOS-03-GISAT-1' 'EOS-04-RISAT-1A'\n",
      " 'INSPIRESAT-1' 'INS-2TD' 'CMS-02-GSAT-24' 'PS4-POEM' 'EOS 02' 'AzaadiSAT']\n",
      "Discipline\n",
      "['Earth Science Space Science'\n",
      " 'Astronomy Communications Engineering Earth Sciences' 'Experimental'\n",
      " 'Earth Sciences' 'Communications' 'Engineering Earth Sciences'\n",
      " 'Communications Earth Sciences' 'Astronomy Space Physics'\n",
      " 'Astronomy Earth Sciences Space Physics' 'Astronomy Earth Sciences'\n",
      " 'Communications Engineering' 'Engineering' 'Avionics'\n",
      " 'Planetary Sciences' 'Earth Sciences Technology Applications'\n",
      " 'Solar Physics Space Physics' 'Meteorological'\n",
      " 'Navigation/Global Positioning' 'Planetary Science' 'Re-entry Experiment'\n",
      " 'Space Sciences' 'Technology Applications'\n",
      " 'Communications Technology Applications'\n",
      " 'High-throughput Communication Satellite'\n",
      " 'Hyperspectral imaging satellite'\n",
      " 'Communications technology demonstrator' 'Communications satellite'\n",
      " 'Military satellite' 'Earth imaging for defense applications'\n",
      " 'Student satellite' 'High-throughput Telecommunication Satellite'\n",
      " 'Reconnaissance of electromagnetic spectrum'\n",
      " 'Radio Ionospheric studies Maritime Satellite'\n",
      " 'Disaster management Radar imaging' 'Lunar Exploration'\n",
      " 'Earth observation' 'Radar imaging'\n",
      " 'Studying space radiations magnetosphere' 'Student cubesa'\n",
      " 'Student satellite-Earth observation']\n",
      "Launch_mass\n",
      "[3.6000e+02 4.4400e+02 3.5000e+01 3.8000e+01 6.7000e+02 1.1521e+03\n",
      " 4.1500e+01 1.1520e+03 1.5000e+02 9.7500e+02 1.1900e+03 1.3100e+03\n",
      " 1.0610e+02 1.9060e+03 1.9310e+03 8.4600e+02 1.1300e+02 8.7000e+02\n",
      " 2.0500e+03 1.2500e+03 9.3000e+02 2.0790e+03 9.2000e+02 2.5500e+03\n",
      " 1.0500e+03 2.0700e+03 1.5300e+03 1.1080e+03 2.7500e+03 1.0600e+03\n",
      " 2.9500e+03 1.9000e+03 2.7750e+03 1.3600e+03 1.9505e+03 1.5600e+03\n",
      " 4.2500e+01 3.0810e+03 2.1800e+03 6.8000e+02 6.1500e+02 3.0250e+03\n",
      " 1.8500e+02 2.1300e+03 6.9000e+02 8.3000e+01 1.3800e+03 3.0000e+02\n",
      " 4.0000e+01 9.6000e+02 2.2200e+03 6.9400e+02 1.0000e+00 2.3100e+03\n",
      " 1.2060e+03 9.2000e+01 3.0930e+03 1.4100e+03 1.0000e+03 3.0000e+00\n",
      " 1.0900e+01 1.8580e+03 5.0000e+01 3.4000e+03 4.0700e+02 1.4250e+03\n",
      " 2.0600e+03 2.6500e+03 1.3400e+03 1.9820e+03 1.4320e+03 1.4254e+03\n",
      " 3.1816e+03 3.7750e+03 2.1170e+03 1.5130e+03 3.1640e+03 7.3750e+02\n",
      " 1.5000e+00 2.2110e+03 1.0000e+01 5.2500e+00 3.7700e+02 3.4250e+03\n",
      " 1.2350e+03 7.1400e+02 8.4000e+00 9.7000e+00 2.2300e+03 3.1360e+03\n",
      " 1.5000e+01 7.1200e+02 3.4770e+03 7.1000e+02 1.3200e+02 1.1000e+01\n",
      " 3.4230e+03 3.8000e+02 5.8540e+03 2.2500e+03 7.4120e+02 1.2600e+00\n",
      " 2.5360e+03 4.3600e+02 0.0000e+00 3.8500e+03 1.6250e+03 6.2800e+02\n",
      " 3.3570e+03 6.3000e+02 2.2680e+03 1.7100e+03 8.7000e+00 1.7500e+01\n",
      " 4.1813e+03 1.3500e+02 8.0000e+00]\n",
      "Launch_date\n",
      "['1975-04-19' '1979-06-07' '1979-08-10' '1980-07-18' '1981-05-31'\n",
      " '1981-06-19' '1981-11-20' '1982-04-10' '1983-04-17' '1983-06-01'\n",
      " '1987-03-24' '1988-03-17' '1988-07-13' '1988-07-22' '1990-06-12'\n",
      " '1991-08-29' '1992-02-27' '1992-05-20' '1992-07-10' '1993-07-23'\n",
      " '1993-09-20' '1994-05-05' '1994-10-15' '1995-12-07' '1995-12-28'\n",
      " '1996-03-21' '1997-06-04' '1997-09-29' '1999-04-02' '1999-05-26'\n",
      " '2000-03-22' '2001-04-18' '2001-10-22' '2002-01-24' '2002-09-12'\n",
      " '2003-04-10' '2003-05-08' '2003-09-28' '2003-10-17' '2004-09-20'\n",
      " '2005-05-05' '2005-12-22' '2006-07-10' '2007-01-10' '2007-03-12'\n",
      " '2007-04-23' '2007-09-02' '2008-04-28' '2008-10-22' '2009-04-20'\n",
      " '2009-09-23' '2010-04-15' '2010-07-12' '2010-12-25' '2011-04-20'\n",
      " '2011-05-21' '2011-07-15' '2011-10-12' '2012-04-26' '2012-09-09'\n",
      " '2012-09-28' '2013-02-25' '2013-07-01' '2013-07-26' '2013-08-30'\n",
      " '2013-11-05' '2014-01-05' '2014-04-04' '2014-10-16' '2014-10-07'\n",
      " '2014-12-18' '2015-03-28' '2015-08-27' '2015-09-28' '2015-11-11'\n",
      " '2016-01-20' '2016-03-10' '2016-04-28' '2016-06-22' '2016-09-08'\n",
      " '2016-09-26' '2016-10-06' '2016-12-07' '2017-02-15' '2017-05-05'\n",
      " '2017-06-05' '2017-06-23' '2017-06-29' '2017-09-02' '2018-01-12'\n",
      " '2018-03-29' '2018-04-12' '2018-11-01' '2018-11-29' '2018-12-03'\n",
      " '2018-12-05' '2018-12-19' '2019-01-23' '2019-02-06' '2019-04-01'\n",
      " '2019-05-22' '2019-07-22' '2019-11-27' '2019-12-11' '2020-01-16'\n",
      " '2020-11-07' '2020-12-17' '2021-02-28' '2021-08-12' '2022-02-14'\n",
      " '2022-06-22' '2022-06-30' '2022-08-07']\n",
      "Launch_vehicle\n",
      "['Interkosmos-2' ' Modified SS-5' 'SLV-3-E1' 'SLV-3-E2' 'SLV-3-D1'\n",
      " 'Ariane-1 (V-3)' 'Delta 3910 PAM-D' 'SLV-3' 'Shuttle [PAM-D]' 'ASLV-D1'\n",
      " 'Vostok' 'ASLV-D2' 'Ariane-3' ' Delta 4925' 'Ariane-44L H10' 'ASLV-D3'\n",
      " 'Ariane-44L H10+' 'PSLV-D1' 'ASLV-D4' 'PSLV-D2' 'Ariane-44L H10-3'\n",
      " 'Molniya-M' 'PSLV-D3' 'PSLV-C1' 'Ariane-42P H10-3' 'PSLV-C2' 'Ariane-5G'\n",
      " 'GSLV-D1' 'PSLV-C3' 'Ariane-42L H10-3' 'PSLV-C4' 'GSLV-D2' 'PSLV-C5'\n",
      " 'GSLV-F01' 'PSLV-C6' 'Ariane-5GS' 'GSLV-F02' 'PSLV-C7' 'Ariane-5ECA'\n",
      " 'PSLV-C8' 'GSLV-F04' 'PSLV-C9' 'PSLV-C11' 'PSLV-C12' 'PSLV-C14' 'GSLV-D3'\n",
      " 'PSLV-C15' 'GSLV-F06' 'PSLV-C16' 'Ariane-5 VA-202' 'PSLV-C17' 'PSLV-C18'\n",
      " 'PSLV-C19' 'PSLV-C21' 'Ariane-5 VA-209' 'PSLV-C20' 'PSLV-C22'\n",
      " 'Ariane-5 ECA VA-214' 'Ariane-5 ECA VA-215' 'PSLV-C25' 'GSLV Mk.II-D5'\n",
      " 'PSLV-C24' 'PSLV-C26' 'Ariane-5' 'LVM3-X' 'PSLV-C27' 'GSLV Mk.II-D6'\n",
      " 'PSLV-C30' 'Ariane 5 VA-227' 'PSLV-C31' 'PSLV-C32' 'PSLV-C33' 'PSLV-C34'\n",
      " 'GSLV-F05' 'PSLV-C35' 'Ariane-5 ECA' 'PSLV-C36' 'PSLV-C37' 'GSLV Mk.II'\n",
      " 'GSLV Mk.III-D1' 'PSLV-C38' 'PSLV-C39' 'PSLV-C40' ' GSLV-F08' 'PSLV-C41'\n",
      " 'GSLV Mk III D2' 'PSLV-C43' 'SpaceX Falcon 9' 'Ariane 5-VA246'\n",
      " 'GSLV Mk.II-F11' 'PSLV-C44' 'Ariane 5-VCA' 'PSLV-C45' 'PSLV-CA C46'\n",
      " 'GSLV Mk III M01' 'PSLV-XL C47' 'PSLV-QL C48' 'Ariane 5 ECA VA-251'\n",
      " 'PSLV-DL C49' 'PSLV-XL C50' 'PSLV-DL C51' 'GSLV Mk II F10' 'PSLV-XL C52'\n",
      " 'Ariane 5 ECA VA-257' 'PSLV-XL C53' 'SSLV-D1']\n",
      "Launch_site\n",
      "['Kapustin Yar' 'Satish Dhawan Space Centre Sriharikota'\n",
      " 'Centre Spatial Guyanais Kourou' 'Air Force Eastern Test Range Florida'\n",
      " ' Satish Dhawan Space Centre Sriharikota'\n",
      " 'Baikonur Cosmodrome Kazakhstan' ' Centre Spatial Guyanais Kourou'\n",
      " ' Baikonur Cosmodrome Kazakhstan' 'Centre Spatial Guyanais kourou'\n",
      " 'French Guiana Centre Spatial Guyanais Kourou'\n",
      " 'Vandenberg Air Force Base California'\n",
      " 'India Satish Dhawan Space Centre Sriharikota']\n",
      "Periapsis_km\n",
      "[  568.    512.      0.    305.    186.  35761.9   520.  35837.1   389.\n",
      " 35776.2   902.3 35768.8 35729.2   892.6 36122.8   255.  35783.1 35812.9\n",
      "   433.    819.2 35918.4   823.    820.9 33225.6   748.6 35932.1   723.9\n",
      " 35949.3 33853.1   514.6 35786.9 35741.2 35874.2 35892.6 35576.4   824.2\n",
      " 36071.1   623.2   592.  35789.7   639.1   486.  35761.1 35780.2   632.\n",
      "   614.    100.    470.6   728.2   629.9   605.5   825.2   808.6 35781.\n",
      " 35761.6   860.5   843.9   855.8   542.2 35783.3   791.8 35720.2 35794.\n",
      " 35789.8   366.  35774.5 35700.5 35715.5 35762.5 35704.7 35769.6   642.5\n",
      " 35785.7 35709.6 35700.8 35778.6   504.7   499.2   499.7 35767.2   666.8\n",
      "   666.6   723.6 35760.2   826.3   510.9   500.7 35782.2 35781.1   502.5\n",
      "   508.4 35771.    633.3 35767.8 35786.6 35775.7   558.4   507.2   576.\n",
      " 35779.1   576.1 35764.9   526.7   526.1   525.8 35651.2]\n",
      "Apoapsis_km\n",
      "[  611.    557.      0.    919.    418.  35963.    542.  35903.1   852.\n",
      " 35869.6   922.1 35821.5 35974.    928.  36365.4   429.  35846.9 35941.2\n",
      "   917.    820.8 35948.5   824.9   827.1 35917.5   823.3 36003.3   726.3\n",
      " 35985.9 35800.5   570.2 35800.6 35845.9 35980.2 35936.5 35716.3   829.5\n",
      " 36084.4   627.9   626.4 35798.7   642.2   643.  35827.1 35806.9   649.2\n",
      "   629.4   100.    478.5   731.9   651.4   622.7   828.7   828.2 35806.3\n",
      " 35825.9   874.7   871.4   873.2   550.  35805.4   792.6 35864.3 35795.3\n",
      " 35798.1 80000.  35813.6 35883.1 35872.6 35824.7 35885.  35818.4   655.\n",
      " 35802.6 35875.2 35889.2 35808.7   526.1   521.8   521.5 35820.6   715.6\n",
      "   713.2   741.2 35827.7   827.6   519.9   514.8 35805.8 35806.7   526.7\n",
      "   522.2 35817.    648.1 35820.1 35799.4 35812.3   563.5   526.6   576.\n",
      " 35808.5   582.9 35823.1   543.5   541.8   540.9 35777.4]\n",
      "Period_in_minutes\n",
      "[  96.5   95.2    0.    96.9   90.5 1439.6 1440.    97.1 1437.6  103.1\n",
      " 1436.2 1435.9 1459.2   91.  1437.2 1440.4   98.1  101.1 1443.2  101.2\n",
      " 1374.1  100.4 1445.    99.1 1387.    95.3 1436.1 1442.9 1442.3 1428.6\n",
      "  101.3 1450.6   96.7   97.4   95.9   97.    93.9   99.3   96.8  102.2\n",
      "  101.9  102.1   95.4  100.6 1436.  4602.    97.6   94.8   94.7   98.4\n",
      "   94.6 1450.9  780.    97.5   95.7   96.1 1432. ]\n",
      "Success\n",
      "['Pass' 'Fail' 'pass']\n"
     ]
    }
   ],
   "source": [
    "for c in df.columns: \n",
    "    print(c)\n",
    "    print(df[c].unique())"
   ]
  },
  {
   "cell_type": "code",
   "execution_count": 7,
   "metadata": {},
   "outputs": [
    {
     "data": {
      "text/plain": [
       "Index(['Discipline', 'Launch_mass', 'Launch_date', 'Launch_vehicle',\n",
       "       'Launch_site', 'Periapsis_km', 'Apoapsis_km', 'Period_in_minutes',\n",
       "       'Success'],\n",
       "      dtype='object')"
      ]
     },
     "execution_count": 7,
     "metadata": {},
     "output_type": "execute_result"
    }
   ],
   "source": [
    "clean_data = df.drop(['s_no', 'sat_Name'], axis=1)\n",
    "clean_data.columns"
   ]
  },
  {
   "cell_type": "code",
   "execution_count": 8,
   "metadata": {},
   "outputs": [
    {
     "data": {
      "text/plain": [
       "array(['Pass', 'Fail'], dtype=object)"
      ]
     },
     "execution_count": 8,
     "metadata": {},
     "output_type": "execute_result"
    }
   ],
   "source": [
    "clean_data['Success'] = clean_data['Success'].replace(['Pass', 'pass'], 'Pass')\n",
    "clean_data.Success.unique()"
   ]
  },
  {
   "cell_type": "code",
   "execution_count": 9,
   "metadata": {},
   "outputs": [
    {
     "data": {
      "text/plain": [
       "0     1975-04-19\n",
       "1     1979-06-07\n",
       "2     1979-08-10\n",
       "3     1980-07-18\n",
       "4     1981-05-31\n",
       "         ...    \n",
       "134   2022-02-14\n",
       "135   2022-06-22\n",
       "136   2022-06-30\n",
       "137   2022-08-07\n",
       "138   2022-08-07\n",
       "Name: Launch_date, Length: 139, dtype: datetime64[ns]"
      ]
     },
     "execution_count": 9,
     "metadata": {},
     "output_type": "execute_result"
    }
   ],
   "source": [
    "clean_data.Launch_date = pd.to_datetime(clean_data.Launch_date)\n",
    "clean_data.Launch_date"
   ]
  },
  {
   "cell_type": "code",
   "execution_count": 10,
   "metadata": {},
   "outputs": [
    {
     "data": {
      "text/plain": [
       "array(['LEO', 'GEO', 'Other'], dtype=object)"
      ]
     },
     "execution_count": 10,
     "metadata": {},
     "output_type": "execute_result"
    }
   ],
   "source": [
    "def classify_orbit(row):\n",
    "    if row['Periapsis_km'] <= 2000 and row['Apoapsis_km'] <= 2000:\n",
    "        return 'LEO'\n",
    "    elif row['Periapsis_km'] > 2000 and row['Apoapsis_km'] > 2000:\n",
    "        return 'GEO'\n",
    "    elif row['Periapsis_km'] > 2000 and row['Apoapsis_km'] <= 20000:\n",
    "        return 'MEO'\n",
    "    else:\n",
    "        return 'Other'\n",
    "\n",
    "clean_data['Orbit_Type'] = clean_data.apply(classify_orbit, axis=1)\n",
    "clean_data.Orbit_Type.unique()"
   ]
  },
  {
   "cell_type": "code",
   "execution_count": 11,
   "metadata": {},
   "outputs": [],
   "source": [
    "clean_data['Launch_year'] = clean_data.Launch_date.dt.year\n",
    "clean_data['Launch_month'] = clean_data.Launch_date.dt.month"
   ]
  },
  {
   "cell_type": "code",
   "execution_count": 12,
   "metadata": {},
   "outputs": [
    {
     "data": {
      "text/plain": [
       "array(['Earth Observation', 'Other', 'Communication', 'Space Exploration',\n",
       "       'Engineering'], dtype=object)"
      ]
     },
     "execution_count": 12,
     "metadata": {},
     "output_type": "execute_result"
    }
   ],
   "source": [
    "def categorize_purpose(row):\n",
    "    if 'Earth Science' in row['Discipline']:\n",
    "        return 'Earth Observation'\n",
    "    elif 'Astronomy' in row['Discipline'] or 'Space Science' in row['Discipline']:\n",
    "        return 'Space Exploration'\n",
    "    elif 'Communications' in row['Discipline']:\n",
    "        return 'Communication'\n",
    "    elif 'Engineering' in row['Discipline']:\n",
    "        return 'Engineering'\n",
    "    else:\n",
    "        return 'Other'\n",
    "\n",
    "clean_data['Satellite_Purpose'] = clean_data.apply(categorize_purpose, axis=1)\n",
    "clean_data.Satellite_Purpose.unique()\n"
   ]
  },
  {
   "cell_type": "code",
   "execution_count": 13,
   "metadata": {},
   "outputs": [
    {
     "data": {
      "text/plain": [
       "Index(['Discipline', 'Launch_mass', 'Launch_date', 'Launch_vehicle',\n",
       "       'Launch_site', 'Periapsis_km', 'Apoapsis_km', 'Period_in_minutes',\n",
       "       'Success', 'Orbit_Type', 'Launch_year', 'Launch_month',\n",
       "       'Satellite_Purpose'],\n",
       "      dtype='object')"
      ]
     },
     "execution_count": 13,
     "metadata": {},
     "output_type": "execute_result"
    }
   ],
   "source": [
    "clean_data.columns"
   ]
  },
  {
   "cell_type": "code",
   "execution_count": 14,
   "metadata": {},
   "outputs": [],
   "source": [
    "conn = sqlite3.connect('instance/majordb.db')\n",
    "clean_data.to_sql('satellite', conn, if_exists='replace', index=False)\n",
    "conn.commit()\n",
    "conn.close()"
   ]
  },
  {
   "cell_type": "markdown",
   "metadata": {},
   "source": [
    "fetchign data"
   ]
  },
  {
   "cell_type": "code",
   "execution_count": 15,
   "metadata": {},
   "outputs": [
    {
     "data": {
      "text/html": [
       "<div>\n",
       "<style scoped>\n",
       "    .dataframe tbody tr th:only-of-type {\n",
       "        vertical-align: middle;\n",
       "    }\n",
       "\n",
       "    .dataframe tbody tr th {\n",
       "        vertical-align: top;\n",
       "    }\n",
       "\n",
       "    .dataframe thead th {\n",
       "        text-align: right;\n",
       "    }\n",
       "</style>\n",
       "<table border=\"1\" class=\"dataframe\">\n",
       "  <thead>\n",
       "    <tr style=\"text-align: right;\">\n",
       "      <th></th>\n",
       "      <th>Discipline</th>\n",
       "      <th>Launch_mass</th>\n",
       "      <th>Launch_date</th>\n",
       "      <th>Launch_vehicle</th>\n",
       "      <th>Launch_site</th>\n",
       "      <th>Periapsis_km</th>\n",
       "      <th>Apoapsis_km</th>\n",
       "      <th>Period_in_minutes</th>\n",
       "      <th>Success</th>\n",
       "      <th>Orbit_Type</th>\n",
       "      <th>Launch_year</th>\n",
       "      <th>Launch_month</th>\n",
       "      <th>Satellite_Purpose</th>\n",
       "    </tr>\n",
       "  </thead>\n",
       "  <tbody>\n",
       "    <tr>\n",
       "      <th>0</th>\n",
       "      <td>Earth Science Space Science</td>\n",
       "      <td>360.0</td>\n",
       "      <td>1975-04-19 00:00:00</td>\n",
       "      <td>Interkosmos-2</td>\n",
       "      <td>Kapustin Yar</td>\n",
       "      <td>568.0</td>\n",
       "      <td>611.0</td>\n",
       "      <td>96.5</td>\n",
       "      <td>Pass</td>\n",
       "      <td>LEO</td>\n",
       "      <td>1975</td>\n",
       "      <td>4</td>\n",
       "      <td>Earth Observation</td>\n",
       "    </tr>\n",
       "    <tr>\n",
       "      <th>1</th>\n",
       "      <td>Astronomy Communications Engineering Earth Sci...</td>\n",
       "      <td>444.0</td>\n",
       "      <td>1979-06-07 00:00:00</td>\n",
       "      <td>Modified SS-5</td>\n",
       "      <td>Kapustin Yar</td>\n",
       "      <td>512.0</td>\n",
       "      <td>557.0</td>\n",
       "      <td>95.2</td>\n",
       "      <td>Pass</td>\n",
       "      <td>LEO</td>\n",
       "      <td>1979</td>\n",
       "      <td>6</td>\n",
       "      <td>Earth Observation</td>\n",
       "    </tr>\n",
       "  </tbody>\n",
       "</table>\n",
       "</div>"
      ],
      "text/plain": [
       "                                          Discipline  Launch_mass  \\\n",
       "0                        Earth Science Space Science        360.0   \n",
       "1  Astronomy Communications Engineering Earth Sci...        444.0   \n",
       "\n",
       "           Launch_date  Launch_vehicle   Launch_site  Periapsis_km  \\\n",
       "0  1975-04-19 00:00:00   Interkosmos-2  Kapustin Yar         568.0   \n",
       "1  1979-06-07 00:00:00   Modified SS-5  Kapustin Yar         512.0   \n",
       "\n",
       "   Apoapsis_km  Period_in_minutes Success Orbit_Type  Launch_year  \\\n",
       "0        611.0               96.5    Pass        LEO         1975   \n",
       "1        557.0               95.2    Pass        LEO         1979   \n",
       "\n",
       "   Launch_month  Satellite_Purpose  \n",
       "0             4  Earth Observation  \n",
       "1             6  Earth Observation  "
      ]
     },
     "execution_count": 15,
     "metadata": {},
     "output_type": "execute_result"
    }
   ],
   "source": [
    "conn = sqlite3.connect('instance/majordb.db')\n",
    "\n",
    "fetched_data = pd.read_sql(\"SELECT * FROM satellite\", conn)\n",
    "conn.close()\n",
    "fetched_data.head(2)"
   ]
  },
  {
   "cell_type": "code",
   "execution_count": 16,
   "metadata": {},
   "outputs": [
    {
     "data": {
      "text/plain": [
       "array(['Earth Science Space Science',\n",
       "       'Astronomy Communications Engineering Earth Sciences',\n",
       "       'Experimental', 'Earth Sciences', 'Communications',\n",
       "       'Engineering Earth Sciences', 'Communications Earth Sciences',\n",
       "       'Astronomy Space Physics',\n",
       "       'Astronomy Earth Sciences Space Physics',\n",
       "       'Astronomy Earth Sciences', 'Communications Engineering',\n",
       "       'Engineering', 'Avionics', 'Planetary Sciences',\n",
       "       'Earth Sciences Technology Applications',\n",
       "       'Solar Physics Space Physics', 'Meteorological',\n",
       "       'Navigation/Global Positioning', 'Planetary Science',\n",
       "       'Re-entry Experiment', 'Space Sciences', 'Technology Applications',\n",
       "       'Communications Technology Applications',\n",
       "       'High-throughput Communication Satellite',\n",
       "       'Hyperspectral imaging satellite',\n",
       "       'Communications technology demonstrator',\n",
       "       'Communications satellite', 'Military satellite',\n",
       "       'Earth imaging for defense applications', 'Student satellite',\n",
       "       'High-throughput Telecommunication Satellite',\n",
       "       'Reconnaissance of electromagnetic spectrum',\n",
       "       'Radio Ionospheric studies Maritime Satellite',\n",
       "       'Disaster management Radar imaging', 'Lunar Exploration',\n",
       "       'Earth observation', 'Radar imaging',\n",
       "       'Studying space radiations magnetosphere', 'Student cubesa',\n",
       "       'Student satellite-Earth observation'], dtype=object)"
      ]
     },
     "execution_count": 16,
     "metadata": {},
     "output_type": "execute_result"
    }
   ],
   "source": [
    "fetched_data.Discipline.unique()"
   ]
  },
  {
   "cell_type": "code",
   "execution_count": 17,
   "metadata": {},
   "outputs": [],
   "source": [
    "encoder = ce.OrdinalEncoder(mapping=[{'col': 'Satellite_Purpose', 'mapping': {'Earth Observation': 1, 'Other':2, 'Communication':3, 'Space Exploration':4,'Engineering':5} },\n",
    "                                     {'col': 'Orbit_Type', 'mapping': {'LEO':1, 'GEO':2, 'Other':3}},\n",
    "                                     ])\n",
    "encoder.fit(fetched_data)\n",
    "fetched_data = encoder.transform(fetched_data)\n"
   ]
  },
  {
   "cell_type": "code",
   "execution_count": 18,
   "metadata": {},
   "outputs": [
    {
     "name": "stdout",
     "output_type": "stream",
     "text": [
      "Decision Tree F1 Score: 0.9025210084033614\n",
      "Random Forest F1 Score: 0.9025210084033614\n",
      "Logistic Regression F1 Score: 0.876010781671159\n",
      "Index(['Launch_mass', 'Periapsis_km', 'Apoapsis_km', 'Period_in_minutes',\n",
      "       'Orbit_Type', 'Launch_year', 'Launch_month', 'Satellite_Purpose'],\n",
      "      dtype='object')\n"
     ]
    },
    {
     "name": "stderr",
     "output_type": "stream",
     "text": [
      "c:\\Users\\rande\\AppData\\Local\\Programs\\Python\\Python312\\Lib\\site-packages\\sklearn\\linear_model\\_logistic.py:469: ConvergenceWarning: lbfgs failed to converge (status=1):\n",
      "STOP: TOTAL NO. of ITERATIONS REACHED LIMIT.\n",
      "\n",
      "Increase the number of iterations (max_iter) or scale the data as shown in:\n",
      "    https://scikit-learn.org/stable/modules/preprocessing.html\n",
      "Please also refer to the documentation for alternative solver options:\n",
      "    https://scikit-learn.org/stable/modules/linear_model.html#logistic-regression\n",
      "  n_iter_i = _check_optimize_result(\n"
     ]
    }
   ],
   "source": [
    "from sklearn.metrics import f1_score\n",
    "\n",
    "y = fetched_data['Success']\n",
    "X = fetched_data.drop(columns=['Success', 'Launch_date', 'Discipline', 'Launch_vehicle', 'Launch_site'])\n",
    "X_train, X_test, y_train, y_test = train_test_split(X, y, test_size=0.2, random_state=42)\n",
    "\n",
    "decision_tree_clf = DecisionTreeClassifier()\n",
    "random_forest_clf = RandomForestClassifier()\n",
    "logistic_regression_clf = LogisticRegression()\n",
    "\n",
    "decision_tree_clf.fit(X_train, y_train)\n",
    "random_forest_clf.fit(X_train, y_train)\n",
    "logistic_regression_clf.fit(X_train, y_train)\n",
    "\n",
    "\n",
    "dt_pred = decision_tree_clf.predict(X_test)\n",
    "rf_pred = random_forest_clf.predict(X_test)\n",
    "lr_pred = logistic_regression_clf.predict(X_test)\n",
    "\n",
    "dt_f1 = f1_score(y_test, dt_pred, average='weighted')\n",
    "rf_f1 = f1_score(y_test, rf_pred, average='weighted')\n",
    "lr_f1 = f1_score(y_test, lr_pred, average='weighted')\n",
    "\n",
    "print(\"Decision Tree F1 Score:\", dt_f1)\n",
    "print(\"Random Forest F1 Score:\", rf_f1)\n",
    "print(\"Logistic Regression F1 Score:\", lr_f1)\n",
    "print(X.columns)\n"
   ]
  },
  {
   "cell_type": "markdown",
   "metadata": {},
   "source": [
    "decision tree looks good. \n",
    "taking it."
   ]
  },
  {
   "cell_type": "code",
   "execution_count": 19,
   "metadata": {},
   "outputs": [],
   "source": [
    "# pickle.dump(decision_tree_clf, open('ds2_reg.pkl', 'wb'))"
   ]
  },
  {
   "cell_type": "markdown",
   "metadata": {},
   "source": [
    "regression"
   ]
  },
  {
   "cell_type": "code",
   "execution_count": 20,
   "metadata": {},
   "outputs": [],
   "source": [
    "encoder = ce.OrdinalEncoder(mapping=[{'col': 'Success', 'mapping': {'Pass': 1, 'Fail':2} }])\n",
    "encoder.fit(fetched_data)\n",
    "fetched_data = encoder.transform(fetched_data)"
   ]
  },
  {
   "cell_type": "code",
   "execution_count": 21,
   "metadata": {},
   "outputs": [
    {
     "name": "stderr",
     "output_type": "stream",
     "text": [
      "c:\\Users\\rande\\AppData\\Local\\Programs\\Python\\Python312\\Lib\\site-packages\\sklearn\\metrics\\_regression.py:483: FutureWarning: 'squared' is deprecated in version 1.4 and will be removed in 1.6. To calculate the root mean squared error, use the function'root_mean_squared_error'.\n",
      "  warnings.warn(\n"
     ]
    },
    {
     "name": "stdout",
     "output_type": "stream",
     "text": [
      "Linear Regression RMSE: 33110.48297984864\n",
      "Random Forest Regression RMSE: 1233.9841246597027\n",
      "Gradient Boosting Regression RMSE: 1190.5228350026875\n"
     ]
    },
    {
     "name": "stderr",
     "output_type": "stream",
     "text": [
      "c:\\Users\\rande\\AppData\\Local\\Programs\\Python\\Python312\\Lib\\site-packages\\sklearn\\metrics\\_regression.py:483: FutureWarning: 'squared' is deprecated in version 1.4 and will be removed in 1.6. To calculate the root mean squared error, use the function'root_mean_squared_error'.\n",
      "  warnings.warn(\n",
      "c:\\Users\\rande\\AppData\\Local\\Programs\\Python\\Python312\\Lib\\site-packages\\sklearn\\metrics\\_regression.py:483: FutureWarning: 'squared' is deprecated in version 1.4 and will be removed in 1.6. To calculate the root mean squared error, use the function'root_mean_squared_error'.\n",
      "  warnings.warn(\n"
     ]
    },
    {
     "data": {
      "text/html": [
       "<div>\n",
       "<style scoped>\n",
       "    .dataframe tbody tr th:only-of-type {\n",
       "        vertical-align: middle;\n",
       "    }\n",
       "\n",
       "    .dataframe tbody tr th {\n",
       "        vertical-align: top;\n",
       "    }\n",
       "\n",
       "    .dataframe thead th {\n",
       "        text-align: right;\n",
       "    }\n",
       "</style>\n",
       "<table border=\"1\" class=\"dataframe\">\n",
       "  <thead>\n",
       "    <tr style=\"text-align: right;\">\n",
       "      <th></th>\n",
       "      <th>Discipline</th>\n",
       "      <th>Launch_mass</th>\n",
       "      <th>Launch_date</th>\n",
       "      <th>Launch_vehicle</th>\n",
       "      <th>Launch_site</th>\n",
       "      <th>Periapsis_km</th>\n",
       "      <th>Apoapsis_km</th>\n",
       "      <th>Period_in_minutes</th>\n",
       "      <th>Success</th>\n",
       "      <th>Orbit_Type</th>\n",
       "      <th>Launch_year</th>\n",
       "      <th>Launch_month</th>\n",
       "      <th>Satellite_Purpose</th>\n",
       "    </tr>\n",
       "  </thead>\n",
       "  <tbody>\n",
       "    <tr>\n",
       "      <th>0</th>\n",
       "      <td>Earth Science Space Science</td>\n",
       "      <td>360.0</td>\n",
       "      <td>1975-04-19 00:00:00</td>\n",
       "      <td>Interkosmos-2</td>\n",
       "      <td>Kapustin Yar</td>\n",
       "      <td>568.0</td>\n",
       "      <td>611.0</td>\n",
       "      <td>96.5</td>\n",
       "      <td>1</td>\n",
       "      <td>1</td>\n",
       "      <td>1975</td>\n",
       "      <td>4</td>\n",
       "      <td>1</td>\n",
       "    </tr>\n",
       "    <tr>\n",
       "      <th>1</th>\n",
       "      <td>Astronomy Communications Engineering Earth Sci...</td>\n",
       "      <td>444.0</td>\n",
       "      <td>1979-06-07 00:00:00</td>\n",
       "      <td>Modified SS-5</td>\n",
       "      <td>Kapustin Yar</td>\n",
       "      <td>512.0</td>\n",
       "      <td>557.0</td>\n",
       "      <td>95.2</td>\n",
       "      <td>1</td>\n",
       "      <td>1</td>\n",
       "      <td>1979</td>\n",
       "      <td>6</td>\n",
       "      <td>1</td>\n",
       "    </tr>\n",
       "    <tr>\n",
       "      <th>2</th>\n",
       "      <td>Experimental</td>\n",
       "      <td>35.0</td>\n",
       "      <td>1979-08-10 00:00:00</td>\n",
       "      <td>SLV-3-E1</td>\n",
       "      <td>Satish Dhawan Space Centre Sriharikota</td>\n",
       "      <td>0.0</td>\n",
       "      <td>0.0</td>\n",
       "      <td>0.0</td>\n",
       "      <td>2</td>\n",
       "      <td>1</td>\n",
       "      <td>1979</td>\n",
       "      <td>8</td>\n",
       "      <td>2</td>\n",
       "    </tr>\n",
       "    <tr>\n",
       "      <th>3</th>\n",
       "      <td>Earth Sciences</td>\n",
       "      <td>35.0</td>\n",
       "      <td>1980-07-18 00:00:00</td>\n",
       "      <td>SLV-3-E2</td>\n",
       "      <td>Satish Dhawan Space Centre Sriharikota</td>\n",
       "      <td>305.0</td>\n",
       "      <td>919.0</td>\n",
       "      <td>96.9</td>\n",
       "      <td>1</td>\n",
       "      <td>1</td>\n",
       "      <td>1980</td>\n",
       "      <td>7</td>\n",
       "      <td>1</td>\n",
       "    </tr>\n",
       "  </tbody>\n",
       "</table>\n",
       "</div>"
      ],
      "text/plain": [
       "                                          Discipline  Launch_mass  \\\n",
       "0                        Earth Science Space Science        360.0   \n",
       "1  Astronomy Communications Engineering Earth Sci...        444.0   \n",
       "2                                       Experimental         35.0   \n",
       "3                                     Earth Sciences         35.0   \n",
       "\n",
       "           Launch_date  Launch_vehicle  \\\n",
       "0  1975-04-19 00:00:00   Interkosmos-2   \n",
       "1  1979-06-07 00:00:00   Modified SS-5   \n",
       "2  1979-08-10 00:00:00        SLV-3-E1   \n",
       "3  1980-07-18 00:00:00        SLV-3-E2   \n",
       "\n",
       "                              Launch_site  Periapsis_km  Apoapsis_km  \\\n",
       "0                            Kapustin Yar         568.0        611.0   \n",
       "1                            Kapustin Yar         512.0        557.0   \n",
       "2  Satish Dhawan Space Centre Sriharikota           0.0          0.0   \n",
       "3  Satish Dhawan Space Centre Sriharikota         305.0        919.0   \n",
       "\n",
       "   Period_in_minutes  Success  Orbit_Type  Launch_year  Launch_month  \\\n",
       "0               96.5        1           1         1975             4   \n",
       "1               95.2        1           1         1979             6   \n",
       "2                0.0        2           1         1979             8   \n",
       "3               96.9        1           1         1980             7   \n",
       "\n",
       "   Satellite_Purpose  \n",
       "0                  1  \n",
       "1                  1  \n",
       "2                  2  \n",
       "3                  1  "
      ]
     },
     "execution_count": 21,
     "metadata": {},
     "output_type": "execute_result"
    }
   ],
   "source": [
    "from sklearn.linear_model import LinearRegression\n",
    "from sklearn.ensemble import RandomForestRegressor, GradientBoostingRegressor\n",
    "from sklearn.metrics import mean_squared_error\n",
    "\n",
    "X = fetched_data.drop(columns=['Launch_mass','Launch_year', 'Launch_month', 'Launch_date', 'Discipline', 'Launch_vehicle', 'Launch_site', 'Success'])\n",
    "y = fetched_data['Launch_mass']\n",
    "\n",
    "X_train, X_test, y_train, y_test = train_test_split(X, y, test_size=0.2, random_state=42)\n",
    "\n",
    "linear_model = LinearRegression()\n",
    "linear_model.fit(X_train, y_train)\n",
    "linear_y_pred = linear_model.predict(X_test)\n",
    "linear_rmse = mean_squared_error(y_test, linear_y_pred, squared=False)\n",
    "\n",
    "# Initialize and train the Random Forest Regression model\n",
    "rf_model = RandomForestRegressor()\n",
    "rf_model.fit(X_train, y_train)\n",
    "rf_y_pred = rf_model.predict(X_test)\n",
    "rf_rmse = mean_squared_error(y_test, rf_y_pred, squared=False)\n",
    "\n",
    "# Initialize and train the Gradient Boosting Regression model\n",
    "gb_model = GradientBoostingRegressor()\n",
    "gb_model.fit(X_train, y_train)\n",
    "gb_y_pred = gb_model.predict(X_test)\n",
    "gb_rmse = mean_squared_error(y_test, gb_y_pred, squared=False)\n",
    "\n",
    "# Print RMSE for each model\n",
    "print(\"Linear Regression RMSE:\", linear_rmse)\n",
    "print(\"Random Forest Regression RMSE:\", rf_rmse)\n",
    "print(\"Gradient Boosting Regression RMSE:\", gb_rmse)\n",
    "fetched_data.head(4)\n"
   ]
  },
  {
   "cell_type": "markdown",
   "metadata": {},
   "source": [
    "lower the RMSE value, better the model will be. hence choosing rendom forest"
   ]
  },
  {
   "cell_type": "code",
   "execution_count": 22,
   "metadata": {},
   "outputs": [],
   "source": [
    "pickle.dump(gb_model, open('ds2_reg.pkl', 'wb'))"
   ]
  }
 ],
 "metadata": {
  "kernelspec": {
   "display_name": "Python 3",
   "language": "python",
   "name": "python3"
  },
  "language_info": {
   "codemirror_mode": {
    "name": "ipython",
    "version": 3
   },
   "file_extension": ".py",
   "mimetype": "text/x-python",
   "name": "python",
   "nbconvert_exporter": "python",
   "pygments_lexer": "ipython3",
   "version": "3.12.1"
  }
 },
 "nbformat": 4,
 "nbformat_minor": 2
}
